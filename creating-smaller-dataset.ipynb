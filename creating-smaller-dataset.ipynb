{
 "cells": [
  {
   "cell_type": "code",
   "execution_count": 1,
   "metadata": {},
   "outputs": [],
   "source": [
    "import json\n",
    "import numpy as np"
   ]
  },
  {
   "cell_type": "code",
   "execution_count": 2,
   "metadata": {},
   "outputs": [],
   "source": [
    "def create_smaller_dataset(k, N):\n",
    "    d = {}\n",
    "    np.random.shuffle(k['annotations'])\n",
    "    d['annotations'] = k['annotations'][:N]\n",
    "    images =[an[\"image_id\"] for an in d['annotations']]\n",
    "    d['images'] = [im for im in k[\"images\"] if im['id'] in images]\n",
    "    categories =[an[\"category_id\"] for an in d['annotations']]\n",
    "    d['categories'] = [cat for cat in k[\"categories\"] if cat[\"id\"] in categories]\n",
    "    d['type'] = k['type']\n",
    "    return d\n",
    "\n",
    "def delete_seg(dataset_dict):\n",
    "    for an in dataset_dict['annotations']:\n",
    "        an['segmentation'] = []\n",
    "\n",
    "def write_dict(dataset_dict,filename):\n",
    "    with open(filename, \"w\") as f:\n",
    "        json.dump(dataset_dict, f)\n",
    "def read_dict(filename):\n",
    "    with open(filename, \"r\") as f:\n",
    "        train = json.load(f)\n",
    "    return train"
   ]
  },
  {
   "cell_type": "code",
   "execution_count": 7,
   "metadata": {},
   "outputs": [],
   "source": [
    "path = \"../datasets/VOC2012/annotations/voc_2012\"\n",
    "train = read_dict(path+\"_train.json\")\n",
    "val = read_dict(path+\"_val.json\")"
   ]
  },
  {
   "cell_type": "code",
   "execution_count": 9,
   "metadata": {},
   "outputs": [],
   "source": [
    "val_smaller = create_smaller_dataset(val, 50)\n",
    "train_smaller = create_smaller_dataset(train, 100)\n",
    "delete_seg(val_smaller)\n",
    "delete_seg(train_smaller)\n",
    "write_dict(val_smaller, path + \"_small_val.json\")\n",
    "write_dict(train_smaller,path+ \"_small_train.json\")"
   ]
  }
 ],
 "metadata": {
  "kernelspec": {
   "display_name": "Python 2",
   "language": "python",
   "name": "python2"
  },
  "language_info": {
   "codemirror_mode": {
    "name": "ipython",
    "version": 2
   },
   "file_extension": ".py",
   "mimetype": "text/x-python",
   "name": "python",
   "nbconvert_exporter": "python",
   "pygments_lexer": "ipython2",
   "version": "2.7.12"
  }
 },
 "nbformat": 4,
 "nbformat_minor": 2
}
